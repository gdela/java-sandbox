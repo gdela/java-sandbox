{
 "cells": [
  {
   "cell_type": "code",
   "execution_count": null,
   "id": "121da9e3",
   "metadata": {},
   "outputs": [],
   "source": [
    "import re\n",
    "import numpy as np\n",
    "import pandas as pd\n",
    "import matplotlib.pyplot as plt\n",
    "%matplotlib inline"
   ]
  },
  {
   "cell_type": "code",
   "execution_count": null,
   "id": "b299cf95",
   "metadata": {},
   "outputs": [],
   "source": [
    "results_file = 'benchmark-jdk-17.0.8-windows-i5-8400.txt'\n",
    "\n",
    "result_pattern = re.compile(r\"\"\"\n",
    "    BalancersBenchmark._(?P<threads>\\d*)_threads?\\s*\n",
    "    (?P<balancer>\\w*)Balancer\\s*\n",
    "    thrpt\\s*\n",
    "    (?P<count>\\d*)\\s*\n",
    "    (?P<score>[\\d]*),\\d*\\s*\n",
    "    ±\\s*\n",
    "    (?P<error>[\\d]*),\\d*\\s*\n",
    "\"\"\", re.VERBOSE)\n",
    "\n",
    "results = [];\n",
    "with open(results_file, 'r', encoding='utf-8') as input:\n",
    "    in_summary = False\n",
    "    for line in input:\n",
    "        in_summary = in_summary or 'Run complete' in line\n",
    "        if in_summary:\n",
    "            match = result_pattern.match(line)\n",
    "            if match:\n",
    "                results.append(match.groupdict())\n",
    "            \n",
    "data_long = pd.DataFrame.from_records(results)\n",
    "data_long.head(5)"
   ]
  },
  {
   "cell_type": "code",
   "execution_count": null,
   "id": "48a55ba0",
   "metadata": {},
   "outputs": [],
   "source": [
    "data = pd.pivot_table(data_long, index='threads', columns='balancer', values='score')\n",
    "data.drop(['AtomicIntegerWeakCASPlain', 'AtomicIntegerWeakCASReleaseAcquire'], axis='columns', inplace=True)\n",
    "data.index = data.index.astype(int)\n",
    "data.sort_index(inplace=True)\n",
    "data"
   ]
  },
  {
   "cell_type": "code",
   "execution_count": null,
   "id": "2b29454d",
   "metadata": {},
   "outputs": [],
   "source": [
    "data.plot.bar(ylabel='ops/μs')"
   ]
  },
  {
   "cell_type": "code",
   "execution_count": null,
   "id": "b33e657f",
   "metadata": {},
   "outputs": [],
   "source": [
    "data.drop('NonThreadSafe', axis='columns').plot.bar(ylabel='ops/μs')"
   ]
  },
  {
   "cell_type": "code",
   "execution_count": null,
   "id": "37f44886",
   "metadata": {},
   "outputs": [],
   "source": [
    "data[['NonThreadSafe']].plot()"
   ]
  },
  {
   "cell_type": "code",
   "execution_count": null,
   "id": "a566b9f4",
   "metadata": {},
   "outputs": [],
   "source": [
    "data.drop('NonThreadSafe', axis='columns').plot()"
   ]
  }
 ],
 "metadata": {
  "kernelspec": {
   "display_name": "Python 3 (ipykernel)",
   "language": "python",
   "name": "python3"
  },
  "language_info": {
   "codemirror_mode": {
    "name": "ipython",
    "version": 3
   },
   "file_extension": ".py",
   "mimetype": "text/x-python",
   "name": "python",
   "nbconvert_exporter": "python",
   "pygments_lexer": "ipython3",
   "version": "3.10.0"
  }
 },
 "nbformat": 4,
 "nbformat_minor": 5
}
