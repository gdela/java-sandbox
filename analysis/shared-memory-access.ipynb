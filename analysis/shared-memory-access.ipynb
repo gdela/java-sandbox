{
 "cells": [
  {
   "cell_type": "code",
   "execution_count": null,
   "id": "194847a8",
   "metadata": {},
   "outputs": [],
   "source": [
    "import re\n",
    "import numpy as np\n",
    "import pandas as pd\n",
    "import matplotlib.pyplot as plt\n",
    "import matplotlib.colors as mcolors\n",
    "%matplotlib inline"
   ]
  },
  {
   "cell_type": "code",
   "execution_count": null,
   "id": "cdce63c2",
   "metadata": {},
   "outputs": [],
   "source": [
    "results_file = 'benchmark-jdk-17.0.8-windows-i5-8400-throughput.txt'\n",
    "\n",
    "result_pattern = re.compile(r\"\"\"\n",
    "    BalancersBenchmark._(?P<threads>\\d*)_threads?\\s*\n",
    "    (?P<balancer>\\w*)Balancer\\s*\n",
    "    thrpt\\s*\n",
    "    (?P<count>\\d*)\\s*\n",
    "    (?P<score>[\\d]*),\\d*\\s*\n",
    "    ±\\s*\n",
    "    (?P<error>[\\d]*),\\d*\\s*\n",
    "\"\"\", re.VERBOSE)\n",
    "\n",
    "results = [];\n",
    "with open(results_file, 'r', encoding='utf-8') as input:\n",
    "    in_summary = False\n",
    "    for line in input:\n",
    "        in_summary = in_summary or 'Run complete' in line\n",
    "        if in_summary:\n",
    "            match = result_pattern.match(line)\n",
    "            if match:\n",
    "                results.append(match.groupdict())\n",
    "            \n",
    "data_long = pd.DataFrame.from_records(results)\n",
    "data_long.head(5)"
   ]
  },
  {
   "cell_type": "code",
   "execution_count": null,
   "id": "9303d430",
   "metadata": {
    "scrolled": true
   },
   "outputs": [],
   "source": [
    "data = pd.pivot_table(data_long, index='threads', columns='balancer', values='score')\n",
    "#data.drop(['AtomicIntegerWeakCASPlain', 'AtomicIntegerWeakCASReleaseAcquire'], axis='columns', inplace=True)\n",
    "data.index = data.index.astype(int)\n",
    "data.sort_index(inplace=True)\n",
    "colors = dict(zip(list(data.columns), list(mcolors.TABLEAU_COLORS)))\n",
    "data"
   ]
  },
  {
   "cell_type": "code",
   "execution_count": null,
   "id": "182a3a2f",
   "metadata": {},
   "outputs": [],
   "source": []
  },
  {
   "cell_type": "code",
   "execution_count": null,
   "id": "2391a6aa",
   "metadata": {},
   "outputs": [],
   "source": [
    "data.drop(['Dummy1', 'Dummy2'], axis='columns').plot.bar(ylabel='ops/μs', color=colors)"
   ]
  },
  {
   "cell_type": "code",
   "execution_count": null,
   "id": "c6fbcea1",
   "metadata": {},
   "outputs": [],
   "source": [
    "data.drop(['NonThreadSafe','Dummy1','Dummy2'], axis='columns').plot.bar(ylabel='ops/μs', color=colors)"
   ]
  },
  {
   "cell_type": "code",
   "execution_count": null,
   "id": "eda370c3",
   "metadata": {},
   "outputs": [],
   "source": [
    "data[['Dummy1', 'Dummy2']].plot(ylabel='ops/μs', color=colors)"
   ]
  },
  {
   "cell_type": "code",
   "execution_count": null,
   "id": "e9376a68",
   "metadata": {
    "scrolled": true
   },
   "outputs": [],
   "source": [
    "data[['NonThreadSafe']].plot(ylabel='ops/μs', color=colors)"
   ]
  },
  {
   "cell_type": "code",
   "execution_count": null,
   "id": "86513401",
   "metadata": {
    "scrolled": true
   },
   "outputs": [],
   "source": [
    "data.drop(['NonThreadSafe', 'Dummy1', 'Dummy2'], axis='columns').plot(ylabel='ops/μs', color=colors)"
   ]
  },
  {
   "cell_type": "code",
   "execution_count": null,
   "id": "cecddc38",
   "metadata": {},
   "outputs": [],
   "source": [
    "data.drop(1)[['NonThreadSafe']].plot(ylabel='ops/μs', color=colors)"
   ]
  },
  {
   "cell_type": "code",
   "execution_count": null,
   "id": "2d1d0121",
   "metadata": {
    "scrolled": true
   },
   "outputs": [],
   "source": [
    "data.drop(1)[['Semaphore', 'SynchronizedBlock', 'SynchronizedMethod']].plot(ylabel='ops/μs', color=colors)"
   ]
  },
  {
   "cell_type": "code",
   "execution_count": null,
   "id": "4a4d9ef9",
   "metadata": {},
   "outputs": [],
   "source": [
    "data.drop(1)[['AtomicIntegerCAExchange', 'AtomicIntegerCASet', 'AtomicIntegerLambda']].plot(ylabel='ops/μs', color=colors)"
   ]
  }
 ],
 "metadata": {
  "kernelspec": {
   "display_name": "Python 3 (ipykernel)",
   "language": "python",
   "name": "python3"
  },
  "language_info": {
   "codemirror_mode": {
    "name": "ipython",
    "version": 3
   },
   "file_extension": ".py",
   "mimetype": "text/x-python",
   "name": "python",
   "nbconvert_exporter": "python",
   "pygments_lexer": "ipython3",
   "version": "3.10.0"
  }
 },
 "nbformat": 4,
 "nbformat_minor": 5
}
