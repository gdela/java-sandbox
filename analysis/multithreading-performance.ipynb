{
 "cells": [
  {
   "cell_type": "code",
   "execution_count": null,
   "id": "194847a8",
   "metadata": {},
   "outputs": [],
   "source": [
    "import re\n",
    "import numpy as np\n",
    "import pandas as pd\n",
    "import matplotlib.pyplot as plt\n",
    "import matplotlib.colors as mcolors\n",
    "%matplotlib inline"
   ]
  },
  {
   "cell_type": "code",
   "execution_count": null,
   "id": "cdce63c2",
   "metadata": {},
   "outputs": [],
   "source": [
    "df_columns_order = [\n",
    "    'DummyOneString',\n",
    "    'DummyFirstString',\n",
    "    'NonThreadSafe',\n",
    "    'SynchronizedMethod',\n",
    "    'SynchronizedBlock',\n",
    "    'Semaphore',\n",
    "    'ReentrantLock',\n",
    "    'AtomicIntegerCASet',\n",
    "    'AtomicIntegerCAExchange',\n",
    "    'AtomicIntegerLambda'\n",
    "]\n",
    "\n",
    "result_pattern = re.compile(r\"\"\"\n",
    "    BalancersBenchmark._(?P<threads>\\d*)_threads?\\s*\n",
    "    (?P<balancer>\\w*)Balancer\\s*\n",
    "    (thrpt|avgt)\\s*\n",
    "    (?P<count>\\d*)\\s*\n",
    "    (?P<score>\\d*[.,]\\d*)\\s*\n",
    "    ±\\s*\n",
    "    (?P<error>\\d*[.,]\\d*)\\s*\n",
    "\"\"\", re.VERBOSE)\n",
    "\n",
    "def read_data(file):\n",
    "    results = [];\n",
    "    with open(file, 'r', encoding='utf-8') as input:\n",
    "        in_summary = False\n",
    "        for line in input:\n",
    "            in_summary = in_summary or 'Run complete' in line\n",
    "            if in_summary:\n",
    "                match = result_pattern.match(line)\n",
    "                if match:\n",
    "                    row = match.groupdict()\n",
    "                    row['score'] = row['score'].replace(',', '.')\n",
    "                    row['error'] = row['error'].replace(',', '.')\n",
    "                    results.append(row)\n",
    "\n",
    "    data_long = pd.DataFrame.from_records(results)\n",
    "    balancers = data_long['balancer'].unique();\n",
    "    print(f'{file}:\\n {balancers}\\n')\n",
    "    \n",
    "    columns = df_columns_order\n",
    "    [columns.append(x) for x in list(balancers) if x not in columns]\n",
    "    \n",
    "    data = pd.pivot_table(data_long, index='threads', columns='balancer', values='score')\n",
    "    data.index = data.index.astype(int)\n",
    "    data = data.sort_index().reindex(columns=columns)\n",
    "    return data\n",
    "\n",
    "dataset = 'windows-i5-8400-jdk-17.0.8'\n",
    "thrpt_donoop = read_data(dataset + '/thrpt_donoop.txt')\n",
    "thrpt_toupper = read_data(dataset + '/thrpt_toupper.txt')\n",
    "\n",
    "avgt_donoop = read_data(dataset + '/avgt_donoop.txt')\n",
    "avgt_toupper = read_data(dataset + '/avgt_toupper.txt')\n",
    "\n",
    "thrpt_donoop_biased_locking = read_data(dataset + '/thrpt_donoop_biased-locking.txt')"
   ]
  },
  {
   "cell_type": "code",
   "execution_count": null,
   "id": "d542a40f",
   "metadata": {},
   "outputs": [],
   "source": [
    "grid_alpha=0.4\n",
    "data_colors = {\n",
    "    'DummyOneString': '#14bae1',\n",
    "    'DummyFirstString': '#2379cc',\n",
    "    'NonThreadSafe': '#f73931',\n",
    "    'SynchronizedMethod': '#15b71e',\n",
    "    'SynchronizedBlock': '#78b98f',\n",
    "    'Semaphore': '#a7d64e',\n",
    "    'ReentrantLock': '#a8b8e6',\n",
    "    'AtomicIntegerCASet': '#ff7f00',\n",
    "    'AtomicIntegerCAExchange': '#fdbf6f',\n",
    "    'AtomicIntegerLambda': '#fb9a99',\n",
    "}\n",
    "\n",
    "def preetify_line_plot(df, ax):\n",
    "    ax.set_xticks(df.index)\n",
    "    ax.grid('on', alpha=0.4)\n",
    "    \n",
    "def preetify_bar_plot(df, ax):\n",
    "    ax.grid('on', axis='y', alpha=0.4)\n",
    "\n",
    "def select(df, balancers=None, threads=None):\n",
    "    if balancers:\n",
    "        df = df.filter(regex=balancers)\n",
    "    if threads:\n",
    "        df = df.loc[set(df.index).intersection(range(threads[0], threads[1]+1))]\n",
    "    return df\n",
    "\n",
    "def plot_sel(df, balancers=None, threads=None, title=None, ylabel='total throughput [ops/μs]'):\n",
    "    fig, axes = plt.subplots(nrows=1, ncols=2, figsize=(15,4))\n",
    "    \n",
    "    df = select(df, balancers, threads)    \n",
    "    df.plot.line(ax=axes[0], title=title, ylabel=ylabel, color=data_colors)\n",
    "    df.plot.bar(ax=axes[1], title=title, ylabel=ylabel, color=data_colors)\n",
    "    preetify_line_plot(df, axes[0])\n",
    "    preetify_bar_plot(df, axes[1])\n",
    "    \n",
    "def plot_cmp(df1, df2, balancers=None, threads=None, title1=None, title2=None, ylabel1=None, ylabel2=None,\n",
    "             ylabel='total throughput [ops/μs]', type='line'):\n",
    "    fig, axes = plt.subplots(nrows=1, ncols=2, figsize=(15,4))\n",
    "    if not ylabel1:\n",
    "        ylabel1 = ylabel\n",
    "    if not ylabel2:\n",
    "        ylabel2 = ylabel\n",
    "    \n",
    "    df1 = select(df1, balancers, threads)\n",
    "    df2 = select(df2, balancers, threads)\n",
    "    if type == 'line':\n",
    "        df1.plot.line(ax=axes[0], title=title1, ylabel=ylabel1, color=data_colors)\n",
    "        df2.plot.line(ax=axes[1], title=title2, ylabel=ylabel2, color=data_colors)\n",
    "        preetify_line_plot(df1, axes[0])\n",
    "        preetify_line_plot(df2, axes[1])\n",
    "    else:\n",
    "        df1.plot.bar(ax=axes[0], title=title1, ylabel=ylabel1, color=data_colors)\n",
    "        df2.plot.bar(ax=axes[1], title=title2, ylabel=ylabel2, color=data_colors)\n",
    "        preetify_bar_plot(df1, axes[0])\n",
    "        preetify_bar_plot(df2, axes[1])\n",
    "    \n",
    "plot_sel(thrpt_donoop, balancers='(.*)', threads=(1,10), title='Plot Test')\n",
    "plot_cmp(thrpt_donoop, thrpt_toupper, balancers='Dummy', title1='Plot Test X', title2='Plot Test Y', type='bar')"
   ]
  },
  {
   "cell_type": "code",
   "execution_count": null,
   "id": "47f6d7f0",
   "metadata": {},
   "outputs": [],
   "source": [
    "plot_sel(thrpt_donoop, '(Dummy|Non.*Safe|Synch.*Method)', threads=(1,12), title='Basic Implementations - Throughput')"
   ]
  },
  {
   "cell_type": "code",
   "execution_count": null,
   "id": "24f2a465",
   "metadata": {},
   "outputs": [],
   "source": [
    "#plot_sel(avgt_donoop, '(Dummy|Non.*Safe|Synch.*Method)', threads=(1,12), title='Basic Implementations - Average Time', ylabel='average time [ns/op]')\n",
    "plot_sel(avgt_donoop, '(Dummy)', threads=(1,12), title='Dummy Implementations - Average Time', ylabel='average time [ns/op]')\n",
    "plot_cmp(thrpt_donoop, avgt_donoop, '(Non.*Safe|Synch.*Method)', threads=(1,12),\n",
    "         title1='Non-Dummy Implementations - Throughput', ylabel1='total throughput [ops/μs]',\n",
    "         title2='Non-Dummy Implementations - Average Time', ylabel2='average time [ns/op]')"
   ]
  },
  {
   "cell_type": "code",
   "execution_count": null,
   "id": "7085ffb3",
   "metadata": {},
   "outputs": [],
   "source": [
    "plot_sel(thrpt_donoop, '(Dummy|Non.*Safe|Synch.*Method)', threads=(1,3), title='One vs Many Threads Slowdown')"
   ]
  },
  {
   "cell_type": "code",
   "execution_count": null,
   "id": "9a06044e",
   "metadata": {},
   "outputs": [],
   "source": [
    "plot_cmp(thrpt_donoop, thrpt_donoop_biased_locking, '(Non.*Safe|Synch.*Method)', threads=(1,6),\n",
    "         title1='Without Biased Locking', title2='With Biased Locking', type='bar')"
   ]
  },
  {
   "cell_type": "code",
   "execution_count": null,
   "id": "d493ec2c",
   "metadata": {},
   "outputs": [],
   "source": [
    "plot_sel(thrpt_donoop, '(Non.*Safe|Synch|Semaph|Lock)', threads=(1,6), title='Thread Safe Implementations - Lock Based')"
   ]
  },
  {
   "cell_type": "code",
   "execution_count": null,
   "id": "839f0164",
   "metadata": {},
   "outputs": [],
   "source": [
    "plot_sel(thrpt_donoop, '(Non.*Safe|Atomic)', threads=(1,6), title='Thread Safe Implementations - CAS Based')"
   ]
  },
  {
   "cell_type": "code",
   "execution_count": null,
   "id": "a3262ebd",
   "metadata": {},
   "outputs": [],
   "source": [
    "plot_sel(thrpt_donoop, '(Synch|Semaph|Lock|Atomic)', threads=(1,6), title='Lock-Based vs. CAS-Based')"
   ]
  }
 ],
 "metadata": {
  "kernelspec": {
   "display_name": "Python 3 (ipykernel)",
   "language": "python",
   "name": "python3"
  },
  "language_info": {
   "codemirror_mode": {
    "name": "ipython",
    "version": 3
   },
   "file_extension": ".py",
   "mimetype": "text/x-python",
   "name": "python",
   "nbconvert_exporter": "python",
   "pygments_lexer": "ipython3",
   "version": "3.10.0"
  }
 },
 "nbformat": 4,
 "nbformat_minor": 5
}
